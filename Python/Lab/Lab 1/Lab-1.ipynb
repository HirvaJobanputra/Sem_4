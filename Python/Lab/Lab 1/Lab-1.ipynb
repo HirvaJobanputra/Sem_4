{
 "cells": [
  {
   "cell_type": "markdown",
   "id": "a403166e-00f7-473d-9162-036d33d1082b",
   "metadata": {},
   "source": [
    "# Basic programs to understand the working of python. "
   ]
  },
  {
   "cell_type": "code",
   "execution_count": 1,
   "id": "79afd947-97cb-4ad4-9c06-cd60677d8a7a",
   "metadata": {},
   "outputs": [
    {
     "name": "stdout",
     "output_type": "stream",
     "text": [
      "Hello world\n"
     ]
    }
   ],
   "source": [
    "print(\"Hello world\")"
   ]
  },
  {
   "cell_type": "markdown",
   "id": "98ef39f5-5f2d-4603-b43d-376bbf20f40c",
   "metadata": {},
   "source": [
    "### 1. Write a program to print “Hello World”. "
   ]
  },
  {
   "cell_type": "code",
   "execution_count": 9,
   "id": "2be22260-5330-49f4-bca4-296e0cdfa3d9",
   "metadata": {},
   "outputs": [
    {
     "name": "stdout",
     "output_type": "stream",
     "text": [
      "Hello world+University\n"
     ]
    }
   ],
   "source": [
    "print(\"Hello world\",end=\"+\")\n",
    "print(\"University\")"
   ]
  },
  {
   "cell_type": "markdown",
   "id": "1a3f07d9-274d-4e93-9171-a4b3bc2849ba",
   "metadata": {},
   "source": [
    "### 2.Write a program to print your address i) using single print ii) using multiple print. (A) "
   ]
  },
  {
   "cell_type": "code",
   "execution_count": 14,
   "id": "2c14f49f-acba-47e8-9ca3-48eb862d3a3b",
   "metadata": {},
   "outputs": [
    {
     "name": "stdout",
     "output_type": "stream",
     "text": [
      "ABC society\n",
      "DEF road\n",
      "Morbi\n",
      "Address using multiple print:\n",
      "ABC society\n",
      "DEF road\n",
      "Morbi\n"
     ]
    }
   ],
   "source": [
    "print(\"ABC society\\nDEF road\\nMorbi\")\n",
    "print(\"Address using multiple print:\")\n",
    "print(\"ABC society\")\n",
    "print(\"DEF road\")\n",
    "print(\"Morbi\")"
   ]
  },
  {
   "cell_type": "markdown",
   "id": "c3edba44-17fd-4d9f-a4d2-60316be01823",
   "metadata": {},
   "source": [
    "### 3.Write a program to print the addition of 2 numbers (without input function). (A) "
   ]
  },
  {
   "cell_type": "code",
   "execution_count": 10,
   "id": "c0adcd58-2245-4bc5-9fa1-9377ef978bd1",
   "metadata": {},
   "outputs": [
    {
     "name": "stdout",
     "output_type": "stream",
     "text": [
      "Addition of 10 and 20 is 30\n"
     ]
    }
   ],
   "source": [
    "a=10\n",
    "b=20\n",
    "addition=a+b\n",
    "\n",
    "print(f\"Addition of {a} and {b} is {addition}\")\n"
   ]
  },
  {
   "cell_type": "markdown",
   "id": "8ffa57f1-df52-4618-a68d-36f3b88a0e49",
   "metadata": {},
   "source": [
    "### 4.Write a program to calculate and print the average of 2 numbers (withoutinput function). (A)"
   ]
  },
  {
   "cell_type": "code",
   "execution_count": 17,
   "id": "0cc9977a-bce3-4310-9ad7-406f9e3db1c6",
   "metadata": {},
   "outputs": [
    {
     "name": "stdout",
     "output_type": "stream",
     "text": [
      "Sum 30\n",
      "Average 15.0\n"
     ]
    }
   ],
   "source": [
    "a=10\n",
    "b=20\n",
    "sum=a+b\n",
    "print(\"Sum\",sum)\n",
    "print(\"Average\",sum/2)"
   ]
  },
  {
   "cell_type": "markdown",
   "id": "16157369-5ded-47f1-afe3-a10ae9e03cb3",
   "metadata": {},
   "source": [
    "### 5. Write a program to add two numbers entered by the user. (A) "
   ]
  },
  {
   "cell_type": "code",
   "execution_count": 20,
   "id": "215b60ef-258e-403f-a667-35e95aba9fce",
   "metadata": {},
   "outputs": [
    {
     "name": "stdout",
     "output_type": "stream",
     "text": [
      "Enter number 1: 1\n"
     ]
    },
    {
     "name": "stdout",
     "output_type": "stream",
     "text": [
      "1\n"
     ]
    },
    {
     "name": "stdout",
     "output_type": "stream",
     "text": [
      "Enter number 2: 2\n"
     ]
    },
    {
     "name": "stdout",
     "output_type": "stream",
     "text": [
      "2\n",
      "1+2=3\n"
     ]
    }
   ],
   "source": [
    "a=int(input(\"Enter number 1:\"))\n",
    "print(a)\n",
    "b=int(input(\"Enter number 2:\"))\n",
    "print(b)\n",
    "add=a+b\n",
    "print(f\"{a}+{b}={add}\")"
   ]
  },
  {
   "cell_type": "markdown",
   "id": "4ce86c0f-501c-4d08-9873-d3142b12b0b4",
   "metadata": {},
   "source": [
    "###  6.Write a program to calculate the area of a circle. (A)"
   ]
  },
  {
   "cell_type": "code",
   "execution_count": 22,
   "id": "582dc027-5918-4674-95c6-17bab7714847",
   "metadata": {},
   "outputs": [
    {
     "name": "stdout",
     "output_type": "stream",
     "text": [
      "Enter Radius 100\n"
     ]
    },
    {
     "name": "stdout",
     "output_type": "stream",
     "text": [
      "100.0\n",
      "Area of the circle with radius 100.0 = 31400.0\n"
     ]
    }
   ],
   "source": [
    "radius=float(input(\"Enter Radius\"))\n",
    "print(radius)\n",
    "print(f\"Area of the circle with radius {radius} = {3.14*radius*radius}\")"
   ]
  },
  {
   "cell_type": "markdown",
   "id": "5c45fff1-e5d8-4735-8604-52bb491bea54",
   "metadata": {},
   "source": [
    "###  7. Write a program to take 4 subjects' marks from the user and calculate total marks & Percentage. (A) "
   ]
  },
  {
   "cell_type": "code",
   "execution_count": 23,
   "id": "913b6cec-7fd1-4db9-b2c6-c636cfe9e160",
   "metadata": {},
   "outputs": [
    {
     "name": "stdout",
     "output_type": "stream",
     "text": [
      "Enter marks of python 100\n",
      "Enter marks of C 100\n",
      "Enter marks of Java 100\n",
      "Enter marks of cpp: 100\n"
     ]
    },
    {
     "name": "stdout",
     "output_type": "stream",
     "text": [
      "Total marks=400.0\n",
      "Percenatge=100.0\n"
     ]
    }
   ],
   "source": [
    "python=float(input(\"Enter marks of python\"))\n",
    "c=float(input(\"Enter marks of C\"))\n",
    "java=float(input(\"Enter marks of Java\"))\n",
    "cpp=float(input(\"Enter marks of cpp:\"))\n",
    "total=python+c+cpp+java\n",
    "percentage=(total*100)/400\n",
    "print(f\"Total marks={total}\\nPercenatge={percentage}\")"
   ]
  },
  {
   "cell_type": "markdown",
   "id": "2fa12ce7-5d12-4994-9f0d-80ab3e76b893",
   "metadata": {},
   "source": [
    "### 8.Write a program to calculate the area of a triangle (hint: a = h*b*0.5)"
   ]
  },
  {
   "cell_type": "code",
   "execution_count": 24,
   "id": "fa131de3-0c5f-4aca-bf36-e0c9432c8903",
   "metadata": {},
   "outputs": [
    {
     "name": "stdout",
     "output_type": "stream",
     "text": [
      "Enter height of the triangle 10\n",
      "Enter base of the triangl 10\n"
     ]
    },
    {
     "name": "stdout",
     "output_type": "stream",
     "text": [
      "50.0\n"
     ]
    }
   ],
   "source": [
    "h=float(input(\"Enter height of the triangle\"))\n",
    "b=float(input(\"Enter base of the triangl\"))\n",
    "area=h*b*0.5\n",
    "print(area)"
   ]
  },
  {
   "cell_type": "markdown",
   "id": "7133d100-d29e-4445-bfe5-ccde238e0704",
   "metadata": {},
   "source": [
    "### 9.Write a program to calculate the area of a rectangle."
   ]
  },
  {
   "cell_type": "code",
   "execution_count": 25,
   "id": "45562552-4795-408c-9148-05f8ab0fbe7f",
   "metadata": {},
   "outputs": [
    {
     "name": "stdout",
     "output_type": "stream",
     "text": [
      "Enter l: 2\n",
      "Enter b: 3\n"
     ]
    },
    {
     "name": "stdout",
     "output_type": "stream",
     "text": [
      "6.0\n"
     ]
    }
   ],
   "source": [
    "l=float(input(\"Enter l:\"))\n",
    "b=float(input(\"Enter b:\"))\n",
    "area=l*b\n",
    "print(area)"
   ]
  },
  {
   "cell_type": "markdown",
   "id": "2d8cfbf4-1af9-4c96-8aa5-cc319816fc44",
   "metadata": {},
   "source": [
    "### 11. Write a program to calculate simple interest. (B)"
   ]
  },
  {
   "cell_type": "code",
   "execution_count": 27,
   "id": "efe479ff-724d-4e52-b825-3367e211b4b5",
   "metadata": {},
   "outputs": [
    {
     "name": "stdout",
     "output_type": "stream",
     "text": [
      "Enter p: 10\n",
      "Enter r: 10\n",
      "Enter n: 10\n"
     ]
    },
    {
     "name": "stdout",
     "output_type": "stream",
     "text": [
      "10.0\n"
     ]
    }
   ],
   "source": [
    "p=float(input(\"Enter p:\"))\n",
    "r=float(input(\"Enter r:\"))\n",
    "n=float(input(\"Enter n:\"))\n",
    "interest=(p*r*n)/100\n",
    "print(interest)\n"
   ]
  },
  {
   "cell_type": "markdown",
   "id": "a162201c-c38a-400a-a8ed-e4a72ee7ff98",
   "metadata": {},
   "source": [
    "### 12.Write a program to convert Celsius to Fahrenheit and vice versa (Hint- F ((9*C/5)+32)."
   ]
  },
  {
   "cell_type": "code",
   "execution_count": 31,
   "id": "76cb3503-40c5-4931-b6d1-a5ec6f4c7df5",
   "metadata": {},
   "outputs": [
    {
     "name": "stdout",
     "output_type": "stream",
     "text": [
      "Enter celsius: 5\n"
     ]
    },
    {
     "name": "stdout",
     "output_type": "stream",
     "text": [
      "Fahrenheit= 41.0\n"
     ]
    },
    {
     "name": "stdout",
     "output_type": "stream",
     "text": [
      "Enter Fahrenheit: 32\n"
     ]
    },
    {
     "name": "stdout",
     "output_type": "stream",
     "text": [
      "Celsius= 0.0\n"
     ]
    }
   ],
   "source": [
    "c=float(input(\"Enter celsius:\"))\n",
    "ansF=(9*c/5)+32\n",
    "print(\"Fahrenheit=\",ansF)\n",
    "f=float(input(\"Enter Fahrenheit:\"))\n",
    "ansC=((f-32)*5)/9\n",
    "print(\"Celsius=\",ansC)"
   ]
  },
  {
   "cell_type": "code",
   "execution_count": null,
   "id": "77957d3c-fc82-4101-a9e7-cd2ec2839718",
   "metadata": {},
   "outputs": [
    {
     "data": {
      "text/plain": [
       "'Hirvasadsad'"
      ]
     },
     "execution_count": 10,
     "metadata": {},
     "output_type": "execute_result"
    }
   ],
   "source": [
    "\"\"\"Hirva\"\"\"\n"
   ]
  }
 ],
 "metadata": {
  "kernelspec": {
   "display_name": "Python 3 (ipykernel)",
   "language": "python",
   "name": "python3"
  },
  "language_info": {
   "codemirror_mode": {
    "name": "ipython",
    "version": 3
   },
   "file_extension": ".py",
   "mimetype": "text/x-python",
   "name": "python",
   "nbconvert_exporter": "python",
   "pygments_lexer": "ipython3",
   "version": "3.12.7"
  }
 },
 "nbformat": 4,
 "nbformat_minor": 5
}
